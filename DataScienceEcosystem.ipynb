{
 "cells": [
  {
   "cell_type": "markdown",
   "id": "04ef9a76-4cf3-497c-a74b-95ccc5716124",
   "metadata": {},
   "source": [
    "# Data Science Tools and Ecosystem\n",
    "## In this notebook, Data Science Tools and Ecosystem are summarized.\n",
    "\n",
    "**Objectives:**\n",
    "* List popular languages for Data Science.\n",
    "* Commonly used libraries used by Data Scientists\n",
    "* Data Science Tools\n",
    "* Evaluating arithmetic expressions in Python"
   ]
  },
  {
   "cell_type": "markdown",
   "id": "1880e1c1-9281-4e8b-9df9-32222220a9ee",
   "metadata": {},
   "source": [
    "## Author\n",
    "Brian Nickerson"
   ]
  },
  {
   "cell_type": "markdown",
   "id": "d6f93c33-4664-4eeb-995c-98fe3b9e3d88",
   "metadata": {},
   "source": [
    "### Some of the popular languages that Data Scientists use are:\n",
    "\n",
    "1. Python: Widely used for its versatility, readability, and extensive libraries like NumPy, pandas, and scikit-learn for data analysis, machine learning, and more.\n",
    "2. R: Specifically designed for statistical computing and data visualization, making it a favorite among statisticians and researchers.\n",
    "3. SQL: Essential for querying, manipulating, and managing structured data in databases. \n",
    "Other popular languages\n",
    "4. Julia: A high-level, high-performance language that is growing in popularity for data science.\n",
    "5. Java: Often used in enterprise environments for its performance and big data tools like Hadoop.\n",
    "6. Scala: Frequently used with Apache Spark for big data processing.\n",
    "7. SAS: A language used in enterprise settings, particularly in industries like finance and pharmaceuticals, but often requires a specific industry focus.\n",
    "8. MATLAB: A numerical computing environment popular in academic and research settings.\n",
    "9. C/C++: Used for performance-critical tasks and low-level development within data science projects.\n",
    "10. JavaScript: Increasingly used for data visualization and web-based applications"
   ]
  },
  {
   "cell_type": "markdown",
   "id": "75b3dce2-8f89-4840-9549-756371b2812e",
   "metadata": {},
   "source": [
    "### Some of the commonly used libraries used by Data Scientists include:\n",
    "\n",
    "- For Data Manipulation and Analysis:\n",
    "1. Pandas: Provides data structures like DataFrames and Series, essential for data cleaning, transformation, and analysis.\n",
    "2. NumPy: The foundation for numerical computing in Python, offering efficient array operations and mathematical functions.\n",
    "\n",
    "- For Machine Learning:\n",
    "1. Scikit-learn: A comprehensive library providing a wide range of machine learning algorithms for classification, regression, clustering, and more.\n",
    "2. TensorFlow: An open-source library developed by Google for building and training deep learning models.\n",
    "3. Keras: A high-level neural networks API that can run on top of TensorFlow, simplifying the creation of deep learning models.\n",
    "4. PyTorch: Another popular open-source machine learning library, known for its flexibility and dynamic computation graph.\n",
    "5. XGBoost & LightGBM: Optimized gradient boosting libraries known for their performance and efficiency in building predictive models.\n",
    "\n",
    "- For Data Visualization:\n",
    "1. Matplotlib: A fundamental plotting library for creating static, animated, and interactive visualizations.\n",
    "2. Seaborn: Built on Matplotlib, it provides a high-level interface for drawing attractive and informative statistical graphics.\n",
    "3. Plotly: An interactive graphing library that allows for the creation of web-based visualizations.\n",
    "\n",
    "- For Scientific and Statistical Computing:\n",
    "1. SciPy: Offers modules for scientific and technical computing, including optimization, integration, interpolation, and statistics.\n",
    "2. Statsmodels: A library focused on statistical modeling, including linear models, time series analysis, and more.\n",
    "\n",
    "- For Natural Language Processing (NLP):\n",
    "1. NLTK (Natural Language Toolkit): A leading platform for building Python programs to work with human language data.\n",
    "2. spaCy: An industrial-strength library for advanced NLP, offering fast and efficient processing.\n",
    "\n",
    "- For Web Scraping:\n",
    "1. Beautiful Soup: A library for pulling data out of HTML and XML files.\n",
    "2. Scrapy: An open-source framework for extracting data from websites."
   ]
  },
  {
   "cell_type": "markdown",
   "id": "c349d400-4b60-4857-b6c7-2e79cb998f5a",
   "metadata": {},
   "source": [
    "| Data Science Tools\n",
    "| :-------------- \n",
    "| Jupyter Notebook/JupyterLab: Web-based interactive computing environments allowing for code, visualizations, and narrative text in a single document.\n",
    "| RStudio: An IDE specifically designed for the R programming language, offering features for statistical analysis and visualization.\n",
    "| Visual Studio Code (VS Code): A versatile code editor with extensive extensions for various languages, including Python and R, making it adaptable for data science.\n",
    "                                                                                                                                     "
   ]
  },
  {
   "cell_type": "markdown",
   "id": "878f7733-7ebd-4bff-ad16-b8e76398ab54",
   "metadata": {},
   "source": [
    "### Below are a few examples of evaluating arithmetic expressions in Python"
   ]
  },
  {
   "cell_type": "markdown",
   "id": "93e570c5-d9d7-423a-aacd-9a51ff669756",
   "metadata": {},
   "source": [
    "This will convert 200 minutes to hours by diving by 60."
   ]
  },
  {
   "cell_type": "code",
   "execution_count": 2,
   "id": "8603080d-a8e2-4bb9-be80-ed0dd4254f8c",
   "metadata": {},
   "outputs": [
    {
     "data": {
      "text/plain": [
       "17"
      ]
     },
     "execution_count": 2,
     "metadata": {},
     "output_type": "execute_result"
    }
   ],
   "source": [
    "(3*4)+5"
   ]
  },
  {
   "cell_type": "code",
   "execution_count": null,
   "id": "bb0e831c-d594-42a2-b25b-01b74630e64e",
   "metadata": {},
   "outputs": [],
   "source": [
    "This will convert 200 minutes to hours by diving by 60."
   ]
  },
  {
   "cell_type": "code",
   "execution_count": 4,
   "id": "4718cf1e-8272-40d3-a9c9-acc0fe1e0812",
   "metadata": {},
   "outputs": [
    {
     "data": {
      "text/plain": [
       "3.3333333333333335"
      ]
     },
     "execution_count": 4,
     "metadata": {},
     "output_type": "execute_result"
    }
   ],
   "source": [
    "200/60"
   ]
  },
  {
   "cell_type": "code",
   "execution_count": null,
   "id": "c9944c9d-f95f-4e40-908d-cf64de342115",
   "metadata": {},
   "outputs": [],
   "source": []
  }
 ],
 "metadata": {
  "kernelspec": {
   "display_name": "Python [conda env:base] *",
   "language": "python",
   "name": "conda-base-py"
  },
  "language_info": {
   "codemirror_mode": {
    "name": "ipython",
    "version": 3
   },
   "file_extension": ".py",
   "mimetype": "text/x-python",
   "name": "python",
   "nbconvert_exporter": "python",
   "pygments_lexer": "ipython3",
   "version": "3.13.5"
  }
 },
 "nbformat": 4,
 "nbformat_minor": 5
}
